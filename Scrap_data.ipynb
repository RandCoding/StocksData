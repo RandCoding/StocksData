{
 "cells": [
  {
   "cell_type": "code",
   "execution_count": 39,
   "metadata": {},
   "outputs": [],
   "source": [
    "#Scrapping Data of Top Gainers from Finviz\n",
    "from selenium import webdriver\n",
    "from bs4 import BeautifulSoup\n",
    "import pandas as pd\n",
    "from selenium.webdriver.chrome.options import Options\n",
    "import selenium.webdriver.support.ui as ui\n"
   ]
  },
  {
   "cell_type": "code",
   "execution_count": 2,
   "metadata": {},
   "outputs": [],
   "source": [
    "def get_top_gainers_dataframe():\n",
    "    options = Options()\n",
    "    options.add_argument('--headless')\n",
    "    options.add_argument('--disable-gpu')  # Options for not openning a window.\n",
    "\n",
    "    driver = webdriver.Chrome(\"chromedriver\",options=options)\n",
    "#     url = \"https://finviz.com/screener.ashx?v=111&s=ta_topgainers\"\n",
    "    url=\"https://finviz.com/screener.ashx?v=111&s=ta_topgainers&f=fa_epsqoq_pos,fa_salesqoq_pos,geo_usa,sh_price_u10&ft=4\"\n",
    "#     url = \"https://finviz.com/screener.ashx?v=341&s=ta_topgainers&f=fa_epsqoq_pos,fa_salesqoq_pos,geo_usa,sh_avgvol_o100,sh_curvol_u750,sh_price_u5&ft=4\"\n",
    "    driver.get(url)\n",
    "\n",
    "    content = driver.page_source\n",
    "    soup = BeautifulSoup(content,features=\"lxml\")\n",
    "\n",
    "    table = soup.find('table', attrs={'width':'100%','cellpadding':'3','cellspacing':'1', 'border':'0', 'bgcolor':'#d3d3d3'})\n",
    "\n",
    "    table_body = table.find('tbody')\n",
    "\n",
    "    rows = table_body.find_all('tr')\n",
    "\n",
    "    data=[]\n",
    "    columns=[]\n",
    "    first = True\n",
    "    for row in rows:\n",
    "        cols = row.find_all('td')\n",
    "        cols = [ele.text.strip() for ele in cols]\n",
    "\n",
    "        if first:\n",
    "            columns = cols\n",
    "            first = False\n",
    "\n",
    "        else:\n",
    "\n",
    "            data.append([ele for ele in cols if ele]) \n",
    "\n",
    "\n",
    "    return pd.DataFrame(data, columns = columns) \n"
   ]
  },
  {
   "cell_type": "code",
   "execution_count": 64,
   "metadata": {},
   "outputs": [],
   "source": [
    "def get_max_available_date(ticker):\n",
    "    options = Options()\n",
    "    options.add_argument('--headless')\n",
    "    options.add_argument('--disable-gpu')  # Options for not openning a window.\n",
    "\n",
    "    driver = webdriver.Chrome(\"chromedriver\",options=options)\n",
    "    \n",
    "    url = f'https://finance.yahoo.com/quote/{ticker}/history'\n",
    "    \n",
    "    driver.get(url)\n",
    "\n",
    "    content = driver.page_source\n",
    "    soup = BeautifulSoup(content,features=\"lxml\")\n",
    "    \n",
    "    ok_button = driver.find_element_by_xpath('//button[@type=\"submit\" and @name=\"agree\" and @value=\"agree\"]')\n",
    "    ok_button.click()\n",
    "    \n",
    "    wait = ui.WebDriverWait(driver,20)\n",
    "    wait.until(lambda driver: driver.find_element_by_xpath('//input[@type=\"text\" and @data-test=\"date-picker-full-range\"]'))\n",
    "    down_button = driver.find_element_by_xpath('//input[@type=\"text\" and @data-test=\"date-picker-full-range\"]')\n",
    "    down_button.click()\n",
    "    \n",
    "    wait.until(lambda driver: driver.find_element_by_css_selector('#Col1-1-HistoricalDataTable-Proxy > section > div.Mt\\(15px\\).drop-down-selector.historical > div.Bgc\\(\\$lv1BgColor\\).Bdrs\\(3px\\).P\\(10px\\) > div:nth-child(1) > span.Pos\\(r\\) > div > div.Ta\\(c\\).C\\(\\$tertiaryColor\\) > span:nth-child(8)'))\n",
    "    max_button = driver.find_element_by_css_selector('#Col1-1-HistoricalDataTable-Proxy > section > div.Mt\\(15px\\).drop-down-selector.historical > div.Bgc\\(\\$lv1BgColor\\).Bdrs\\(3px\\).P\\(10px\\) > div:nth-child(1) > span.Pos\\(r\\) > div > div.Ta\\(c\\).C\\(\\$tertiaryColor\\) > span:nth-child(8)')\n",
    "    max_button.click()\n",
    "    \n",
    "    startDate = driver.find_element_by_name(\"startDate\")\n",
    "    endDate = driver.find_element_by_name(\"endDate\")\n",
    "    \n",
    "    return startDate.get_attribute('value'),endDate.get_attribute('value')\n",
    "    "
   ]
  },
  {
   "cell_type": "code",
   "execution_count": null,
   "metadata": {},
   "outputs": [],
   "source": []
  },
  {
   "cell_type": "code",
   "execution_count": null,
   "metadata": {},
   "outputs": [],
   "source": []
  },
  {
   "cell_type": "code",
   "execution_count": null,
   "metadata": {},
   "outputs": [],
   "source": []
  },
  {
   "cell_type": "code",
   "execution_count": null,
   "metadata": {},
   "outputs": [],
   "source": []
  },
  {
   "cell_type": "code",
   "execution_count": null,
   "metadata": {},
   "outputs": [],
   "source": []
  }
 ],
 "metadata": {
  "kernelspec": {
   "display_name": "Python 3",
   "language": "python",
   "name": "python3"
  },
  "language_info": {
   "codemirror_mode": {
    "name": "ipython",
    "version": 3
   },
   "file_extension": ".py",
   "mimetype": "text/x-python",
   "name": "python",
   "nbconvert_exporter": "python",
   "pygments_lexer": "ipython3",
   "version": "3.7.2"
  }
 },
 "nbformat": 4,
 "nbformat_minor": 2
}
